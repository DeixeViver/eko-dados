{
 "cells": [
  {
   "cell_type": "markdown",
   "metadata": {},
   "source": [
    "# Explorando os dados da Central Nacional de Denúncias da Safernet"
   ]
  },
  {
   "cell_type": "markdown",
   "metadata": {},
   "source": [
    "**Sobre os dados explorados:**\n",
    "\n",
    "A partir da planilha original os dados foram divididos em 3 arquivos e preprocessados (nesse Notebook)[https://github.com/DeixeViver/eko-dados/blob/master/Notebooks/tratamento_indicadores_cnd.ipynb] resultando nos arquivos abaixo:\n",
    "\n",
    "- cnd_violacao.csv que tem os dados sobre a quantidade de denúnicas por tempo e tipo de violação.\n",
    "- cnd_idioma.csv que tem os dados sobre a quantidade de denúnicas por tempo e idioma.\n",
    "- cnd_dominio.csv que tem os dados sobre a quantidade de denúnicas por tempo e domínio da página denunciada. Os domínios estão mascarados por uma questão de segurança e estão nesse formato desde o arquivo original recebido. A máscara aplicada permite que nós vejamos apenas os \"radicais\" dos sites e isso é o suficente para análisar, por exemplo quais os domínios com maior quantidade de denúncia.\n",
    "\n",
    "**indicadores_cnd_violacao.csv:**\n",
    "- 'Violação': Tipo de violação denunciada *(Apologia e Incitação a crimes contra a Vida, Homofobia, Intolerância Religiosa, Maus Tratos Contra Animais, Neo Nazismo, Não classificado, Pornografia Infantil, Racismo, Tráfico de Pessoas, Violência ou Discriminação contra Mulheres e Xenofobia)*\n",
    "- 'Total': Total de todas as denúncias independente se foram duplicadas ou não.\n",
    "- 'Mês': Nome mês referente ao período da denúncia.\n",
    "- 'Mês Número': Número do mês referente ao período da denúncia.\n",
    "- 'Ano': Ano referente ao período da denúncia.\n",
    "\n",
    "**indicadores_cnd_idioma.csv:**\n",
    "- 'Idioma': Idioma da página denunciada *(dutch, english, farsi, french, german, pinyin, portuguese, russian, spanish, swedish)*.\n",
    "- 'Total': Total de todas as denúncias independente se foram duplicadas ou não.\n",
    "- 'Mês': Nome mês referente ao período da denúncia.\n",
    "- 'Mês Número': Número do mês referente ao período da denúncia.\n",
    "- 'Ano': Ano referente ao período da denúncia.\n",
    "\n",
    "**indicadores_cnd_dominio.csv:**\n",
    "- 'Domínio': Parte do endereço da página denunciada *(facebook.com, google.com.br, imgsrc.ru, instagram.com, orkut.com, orkut.com.br, twitter.com, uol.com.br, xvideos.com, youtube.com)*.\n",
    "- 'Total': Total de todas as denúncias independente se foram duplicadas ou não.\n",
    "- 'Mês': Nome mês referente ao período da denúncia.\n",
    "- 'Mês Número': Número do mês referente ao período da denúncia.\n",
    "- 'Ano': Ano referente ao período da denúncia."
   ]
  },
  {
   "cell_type": "markdown",
   "metadata": {},
   "source": [
    "### 1 - Sobre as bibliotecas"
   ]
  },
  {
   "cell_type": "code",
   "execution_count": 40,
   "metadata": {
    "collapsed": true
   },
   "outputs": [],
   "source": [
    "%matplotlib inline\n",
    "\n",
    "import pandas as pd\n",
    "import matplotlib.pyplot as plt\n",
    "plt.rcParams['figure.figsize'] = (9, 9)"
   ]
  },
  {
   "cell_type": "markdown",
   "metadata": {},
   "source": [
    "### 2 - Importando os dados"
   ]
  },
  {
   "cell_type": "code",
   "execution_count": 41,
   "metadata": {},
   "outputs": [
    {
     "data": {
      "text/html": [
       "<div>\n",
       "<style scoped>\n",
       "    .dataframe tbody tr th:only-of-type {\n",
       "        vertical-align: middle;\n",
       "    }\n",
       "\n",
       "    .dataframe tbody tr th {\n",
       "        vertical-align: top;\n",
       "    }\n",
       "\n",
       "    .dataframe thead th {\n",
       "        text-align: right;\n",
       "    }\n",
       "</style>\n",
       "<table border=\"1\" class=\"dataframe\">\n",
       "  <thead>\n",
       "    <tr style=\"text-align: right;\">\n",
       "      <th></th>\n",
       "      <th>Violação</th>\n",
       "      <th>Total de Denúncias</th>\n",
       "      <th>Mês</th>\n",
       "      <th>Mês Número</th>\n",
       "      <th>Ano</th>\n",
       "    </tr>\n",
       "  </thead>\n",
       "  <tbody>\n",
       "    <tr>\n",
       "      <th>0</th>\n",
       "      <td>Não classificado</td>\n",
       "      <td>0</td>\n",
       "      <td>Janeiro</td>\n",
       "      <td>1</td>\n",
       "      <td>2006</td>\n",
       "    </tr>\n",
       "    <tr>\n",
       "      <th>1</th>\n",
       "      <td>Homofobia</td>\n",
       "      <td>2</td>\n",
       "      <td>Janeiro</td>\n",
       "      <td>1</td>\n",
       "      <td>2006</td>\n",
       "    </tr>\n",
       "    <tr>\n",
       "      <th>2</th>\n",
       "      <td>Neo Nazismo</td>\n",
       "      <td>8</td>\n",
       "      <td>Janeiro</td>\n",
       "      <td>1</td>\n",
       "      <td>2006</td>\n",
       "    </tr>\n",
       "    <tr>\n",
       "      <th>3</th>\n",
       "      <td>Tráfico de Pessoas</td>\n",
       "      <td>0</td>\n",
       "      <td>Janeiro</td>\n",
       "      <td>1</td>\n",
       "      <td>2006</td>\n",
       "    </tr>\n",
       "    <tr>\n",
       "      <th>4</th>\n",
       "      <td>Apologia e Incitação a crimes contra a Vida</td>\n",
       "      <td>2</td>\n",
       "      <td>Janeiro</td>\n",
       "      <td>1</td>\n",
       "      <td>2006</td>\n",
       "    </tr>\n",
       "  </tbody>\n",
       "</table>\n",
       "</div>"
      ],
      "text/plain": [
       "                                      Violação  Total de Denúncias      Mês  \\\n",
       "0                             Não classificado                   0  Janeiro   \n",
       "1                                    Homofobia                   2  Janeiro   \n",
       "2                                  Neo Nazismo                   8  Janeiro   \n",
       "3                           Tráfico de Pessoas                   0  Janeiro   \n",
       "4  Apologia e Incitação a crimes contra a Vida                   2  Janeiro   \n",
       "\n",
       "   Mês Número   Ano  \n",
       "0           1  2006  \n",
       "1           1  2006  \n",
       "2           1  2006  \n",
       "3           1  2006  \n",
       "4           1  2006  "
      ]
     },
     "execution_count": 41,
     "metadata": {},
     "output_type": "execute_result"
    }
   ],
   "source": [
    "violacao = pd.read_csv('../dados/indicadores_cnd_violacao_preprocessado.csv')\n",
    "violacao.head(5)"
   ]
  },
  {
   "cell_type": "code",
   "execution_count": 42,
   "metadata": {},
   "outputs": [
    {
     "data": {
      "text/html": [
       "<div>\n",
       "<style scoped>\n",
       "    .dataframe tbody tr th:only-of-type {\n",
       "        vertical-align: middle;\n",
       "    }\n",
       "\n",
       "    .dataframe tbody tr th {\n",
       "        vertical-align: top;\n",
       "    }\n",
       "\n",
       "    .dataframe thead th {\n",
       "        text-align: right;\n",
       "    }\n",
       "</style>\n",
       "<table border=\"1\" class=\"dataframe\">\n",
       "  <thead>\n",
       "    <tr style=\"text-align: right;\">\n",
       "      <th></th>\n",
       "      <th>Idioma</th>\n",
       "      <th>Total de Denúncias</th>\n",
       "      <th>Mês</th>\n",
       "      <th>Mês Número</th>\n",
       "      <th>Ano</th>\n",
       "    </tr>\n",
       "  </thead>\n",
       "  <tbody>\n",
       "    <tr>\n",
       "      <th>0</th>\n",
       "      <td>portuguese</td>\n",
       "      <td>56</td>\n",
       "      <td>Janeiro</td>\n",
       "      <td>1</td>\n",
       "      <td>2006</td>\n",
       "    </tr>\n",
       "    <tr>\n",
       "      <th>1</th>\n",
       "      <td>french</td>\n",
       "      <td>10</td>\n",
       "      <td>Janeiro</td>\n",
       "      <td>1</td>\n",
       "      <td>2006</td>\n",
       "    </tr>\n",
       "    <tr>\n",
       "      <th>2</th>\n",
       "      <td>farsi</td>\n",
       "      <td>3</td>\n",
       "      <td>Janeiro</td>\n",
       "      <td>1</td>\n",
       "      <td>2006</td>\n",
       "    </tr>\n",
       "    <tr>\n",
       "      <th>3</th>\n",
       "      <td>swedish</td>\n",
       "      <td>0</td>\n",
       "      <td>Janeiro</td>\n",
       "      <td>1</td>\n",
       "      <td>2006</td>\n",
       "    </tr>\n",
       "    <tr>\n",
       "      <th>4</th>\n",
       "      <td>russian</td>\n",
       "      <td>9</td>\n",
       "      <td>Janeiro</td>\n",
       "      <td>1</td>\n",
       "      <td>2006</td>\n",
       "    </tr>\n",
       "  </tbody>\n",
       "</table>\n",
       "</div>"
      ],
      "text/plain": [
       "       Idioma  Total de Denúncias      Mês  Mês Número   Ano\n",
       "0  portuguese                  56  Janeiro           1  2006\n",
       "1      french                  10  Janeiro           1  2006\n",
       "2       farsi                   3  Janeiro           1  2006\n",
       "3     swedish                   0  Janeiro           1  2006\n",
       "4     russian                   9  Janeiro           1  2006"
      ]
     },
     "execution_count": 42,
     "metadata": {},
     "output_type": "execute_result"
    }
   ],
   "source": [
    "idioma = pd.read_csv('../dados/indicadores_cnd_idioma_preprocessado.csv')\n",
    "idioma.head(5)"
   ]
  },
  {
   "cell_type": "code",
   "execution_count": 43,
   "metadata": {
    "scrolled": true
   },
   "outputs": [
    {
     "data": {
      "text/html": [
       "<div>\n",
       "<style scoped>\n",
       "    .dataframe tbody tr th:only-of-type {\n",
       "        vertical-align: middle;\n",
       "    }\n",
       "\n",
       "    .dataframe tbody tr th {\n",
       "        vertical-align: top;\n",
       "    }\n",
       "\n",
       "    .dataframe thead th {\n",
       "        text-align: right;\n",
       "    }\n",
       "</style>\n",
       "<table border=\"1\" class=\"dataframe\">\n",
       "  <thead>\n",
       "    <tr style=\"text-align: right;\">\n",
       "      <th></th>\n",
       "      <th>Domínio</th>\n",
       "      <th>Total de Denúncias</th>\n",
       "      <th>Mês</th>\n",
       "      <th>Mês Número</th>\n",
       "      <th>Ano</th>\n",
       "    </tr>\n",
       "  </thead>\n",
       "  <tbody>\n",
       "    <tr>\n",
       "      <th>0</th>\n",
       "      <td>geocities.com</td>\n",
       "      <td>13</td>\n",
       "      <td>Janeiro</td>\n",
       "      <td>1</td>\n",
       "      <td>2006</td>\n",
       "    </tr>\n",
       "    <tr>\n",
       "      <th>1</th>\n",
       "      <td>yahoo.com</td>\n",
       "      <td>4</td>\n",
       "      <td>Janeiro</td>\n",
       "      <td>1</td>\n",
       "      <td>2006</td>\n",
       "    </tr>\n",
       "    <tr>\n",
       "      <th>2</th>\n",
       "      <td>freepichosting.info</td>\n",
       "      <td>11</td>\n",
       "      <td>Janeiro</td>\n",
       "      <td>1</td>\n",
       "      <td>2006</td>\n",
       "    </tr>\n",
       "    <tr>\n",
       "      <th>3</th>\n",
       "      <td>wol.bz</td>\n",
       "      <td>18</td>\n",
       "      <td>Janeiro</td>\n",
       "      <td>1</td>\n",
       "      <td>2006</td>\n",
       "    </tr>\n",
       "    <tr>\n",
       "      <th>4</th>\n",
       "      <td>orkut.com</td>\n",
       "      <td>205</td>\n",
       "      <td>Janeiro</td>\n",
       "      <td>1</td>\n",
       "      <td>2006</td>\n",
       "    </tr>\n",
       "  </tbody>\n",
       "</table>\n",
       "</div>"
      ],
      "text/plain": [
       "               Domínio  Total de Denúncias      Mês  Mês Número   Ano\n",
       "0        geocities.com                  13  Janeiro           1  2006\n",
       "1            yahoo.com                   4  Janeiro           1  2006\n",
       "2  freepichosting.info                  11  Janeiro           1  2006\n",
       "3               wol.bz                  18  Janeiro           1  2006\n",
       "4            orkut.com                 205  Janeiro           1  2006"
      ]
     },
     "execution_count": 43,
     "metadata": {},
     "output_type": "execute_result"
    }
   ],
   "source": [
    "dominio = pd.read_csv('../dados/indicadores_cnd_dominio_preprocessado.csv')\n",
    "dominio.head(5)"
   ]
  },
  {
   "cell_type": "code",
   "execution_count": 44,
   "metadata": {},
   "outputs": [
    {
     "data": {
      "text/plain": [
       "Violação              object\n",
       "Total de Denúncias     int64\n",
       "Mês                   object\n",
       "Mês Número            object\n",
       "Ano                   object\n",
       "dtype: object"
      ]
     },
     "execution_count": 44,
     "metadata": {},
     "output_type": "execute_result"
    }
   ],
   "source": [
    "violacao.Ano = violacao.Ano.astype(object)\n",
    "violacao['Mês Número'] = violacao['Mês Número'].astype(object)\n",
    "violacao.dtypes"
   ]
  },
  {
   "cell_type": "markdown",
   "metadata": {},
   "source": [
    "## 3 - Saindo do Dados e chegando em Informações"
   ]
  },
  {
   "cell_type": "markdown",
   "metadata": {},
   "source": [
    "### 3.1 - Tipos de violações nas denúncias"
   ]
  },
  {
   "cell_type": "code",
   "execution_count": 45,
   "metadata": {
    "scrolled": true
   },
   "outputs": [
    {
     "data": {
      "text/html": [
       "<div>\n",
       "<style scoped>\n",
       "    .dataframe tbody tr th:only-of-type {\n",
       "        vertical-align: middle;\n",
       "    }\n",
       "\n",
       "    .dataframe tbody tr th {\n",
       "        vertical-align: top;\n",
       "    }\n",
       "\n",
       "    .dataframe thead th {\n",
       "        text-align: right;\n",
       "    }\n",
       "</style>\n",
       "<table border=\"1\" class=\"dataframe\">\n",
       "  <thead>\n",
       "    <tr style=\"text-align: right;\">\n",
       "      <th></th>\n",
       "      <th>Ano</th>\n",
       "      <th>Violação</th>\n",
       "      <th>Total de Denúncias</th>\n",
       "    </tr>\n",
       "  </thead>\n",
       "  <tbody>\n",
       "    <tr>\n",
       "      <th>0</th>\n",
       "      <td>2006</td>\n",
       "      <td>Apologia e Incitação a crimes contra a Vida</td>\n",
       "      <td>69182</td>\n",
       "    </tr>\n",
       "    <tr>\n",
       "      <th>1</th>\n",
       "      <td>2006</td>\n",
       "      <td>Homofobia</td>\n",
       "      <td>20092</td>\n",
       "    </tr>\n",
       "    <tr>\n",
       "      <th>2</th>\n",
       "      <td>2006</td>\n",
       "      <td>Intolerância Religiosa</td>\n",
       "      <td>27729</td>\n",
       "    </tr>\n",
       "    <tr>\n",
       "      <th>3</th>\n",
       "      <td>2006</td>\n",
       "      <td>Maus Tratos Contra Animais</td>\n",
       "      <td>55523</td>\n",
       "    </tr>\n",
       "    <tr>\n",
       "      <th>4</th>\n",
       "      <td>2006</td>\n",
       "      <td>Neo Nazismo</td>\n",
       "      <td>32917</td>\n",
       "    </tr>\n",
       "  </tbody>\n",
       "</table>\n",
       "</div>"
      ],
      "text/plain": [
       "    Ano                                     Violação  Total de Denúncias\n",
       "0  2006  Apologia e Incitação a crimes contra a Vida               69182\n",
       "1  2006                                    Homofobia               20092\n",
       "2  2006                       Intolerância Religiosa               27729\n",
       "3  2006                   Maus Tratos Contra Animais               55523\n",
       "4  2006                                  Neo Nazismo               32917"
      ]
     },
     "execution_count": 45,
     "metadata": {},
     "output_type": "execute_result"
    }
   ],
   "source": [
    "violacao_agrupada_ano = violacao[['Total de Denúncias', 'Ano', 'Violação']].groupby(['Ano', 'Violação']).sum().reset_index()\n",
    "violacao_agrupada_ano.head(5)"
   ]
  },
  {
   "cell_type": "code",
   "execution_count": 46,
   "metadata": {},
   "outputs": [
    {
     "data": {
      "text/html": [
       "<div>\n",
       "<style scoped>\n",
       "    .dataframe tbody tr th:only-of-type {\n",
       "        vertical-align: middle;\n",
       "    }\n",
       "\n",
       "    .dataframe tbody tr th {\n",
       "        vertical-align: top;\n",
       "    }\n",
       "\n",
       "    .dataframe thead th {\n",
       "        text-align: right;\n",
       "    }\n",
       "</style>\n",
       "<table border=\"1\" class=\"dataframe\">\n",
       "  <thead>\n",
       "    <tr style=\"text-align: right;\">\n",
       "      <th></th>\n",
       "      <th>Ano</th>\n",
       "      <th>Violação</th>\n",
       "      <th>Total de Denúncias</th>\n",
       "    </tr>\n",
       "  </thead>\n",
       "  <tbody>\n",
       "    <tr>\n",
       "      <th>137</th>\n",
       "      <td>2018</td>\n",
       "      <td>Não classificado</td>\n",
       "      <td>21</td>\n",
       "    </tr>\n",
       "    <tr>\n",
       "      <th>140</th>\n",
       "      <td>2018</td>\n",
       "      <td>Tráfico de Pessoas</td>\n",
       "      <td>533</td>\n",
       "    </tr>\n",
       "    <tr>\n",
       "      <th>134</th>\n",
       "      <td>2018</td>\n",
       "      <td>Intolerância Religiosa</td>\n",
       "      <td>1102</td>\n",
       "    </tr>\n",
       "    <tr>\n",
       "      <th>135</th>\n",
       "      <td>2018</td>\n",
       "      <td>Maus Tratos Contra Animais</td>\n",
       "      <td>1159</td>\n",
       "    </tr>\n",
       "    <tr>\n",
       "      <th>136</th>\n",
       "      <td>2018</td>\n",
       "      <td>Neo Nazismo</td>\n",
       "      <td>4268</td>\n",
       "    </tr>\n",
       "    <tr>\n",
       "      <th>133</th>\n",
       "      <td>2018</td>\n",
       "      <td>Homofobia</td>\n",
       "      <td>4312</td>\n",
       "    </tr>\n",
       "    <tr>\n",
       "      <th>139</th>\n",
       "      <td>2018</td>\n",
       "      <td>Racismo</td>\n",
       "      <td>8466</td>\n",
       "    </tr>\n",
       "    <tr>\n",
       "      <th>142</th>\n",
       "      <td>2018</td>\n",
       "      <td>Xenofobia</td>\n",
       "      <td>9886</td>\n",
       "    </tr>\n",
       "    <tr>\n",
       "      <th>141</th>\n",
       "      <td>2018</td>\n",
       "      <td>Violência ou Discriminação contra Mulheres</td>\n",
       "      <td>17050</td>\n",
       "    </tr>\n",
       "    <tr>\n",
       "      <th>132</th>\n",
       "      <td>2018</td>\n",
       "      <td>Apologia e Incitação a crimes contra a Vida</td>\n",
       "      <td>28024</td>\n",
       "    </tr>\n",
       "    <tr>\n",
       "      <th>138</th>\n",
       "      <td>2018</td>\n",
       "      <td>Pornografia Infantil</td>\n",
       "      <td>64693</td>\n",
       "    </tr>\n",
       "  </tbody>\n",
       "</table>\n",
       "</div>"
      ],
      "text/plain": [
       "      Ano                                     Violação  Total de Denúncias\n",
       "137  2018                             Não classificado                  21\n",
       "140  2018                           Tráfico de Pessoas                 533\n",
       "134  2018                       Intolerância Religiosa                1102\n",
       "135  2018                   Maus Tratos Contra Animais                1159\n",
       "136  2018                                  Neo Nazismo                4268\n",
       "133  2018                                    Homofobia                4312\n",
       "139  2018                                      Racismo                8466\n",
       "142  2018                                    Xenofobia                9886\n",
       "141  2018   Violência ou Discriminação contra Mulheres               17050\n",
       "132  2018  Apologia e Incitação a crimes contra a Vida               28024\n",
       "138  2018                         Pornografia Infantil               64693"
      ]
     },
     "execution_count": 46,
     "metadata": {},
     "output_type": "execute_result"
    }
   ],
   "source": [
    "violacao_2018 = violacao_agrupada_ano.loc[violacao_agrupada_ano['Ano'] == 2018].sort_values('Total de Denúncias')\n",
    "violacao_2018"
   ]
  },
  {
   "cell_type": "code",
   "execution_count": 47,
   "metadata": {
    "scrolled": false
   },
   "outputs": [
    {
     "data": {
      "text/plain": [
       "<matplotlib.axes._subplots.AxesSubplot at 0x7f2393be91d0>"
      ]
     },
     "execution_count": 47,
     "metadata": {},
     "output_type": "execute_result"
    },
    {
     "data": {
      "image/png": "[encoded data removed]",
      "text/plain": [
       "<matplotlib.figure.Figure at 0x7f2393c6e278>"
      ]
     },
     "metadata": {},
     "output_type": "display_data"
    }
   ],
   "source": [
    "violacao_2018.plot.bar(x = 'Violação', y = 'Total de Denúncias',  \n",
    "                       title='DENÚNCIAS POR TIPO DE VIOLAÇÃO EM 2018')"
   ]
  },
  {
   "cell_type": "code",
   "execution_count": 48,
   "metadata": {
    "collapsed": true
   },
   "outputs": [],
   "source": [
    "violacao_agrupada_ano.to_csv('../dados/violacao_agrupado_ano.csv', index=False)"
   ]
  },
  {
   "cell_type": "markdown",
   "metadata": {},
   "source": [
    "\n",
    "### 3.2 - Domínios das páginas denunciadas\n",
    "\n"
   ]
  },
  {
   "cell_type": "code",
   "execution_count": 49,
   "metadata": {
    "scrolled": true
   },
   "outputs": [
    {
     "data": {
      "text/html": [
       "<div>\n",
       "<style scoped>\n",
       "    .dataframe tbody tr th:only-of-type {\n",
       "        vertical-align: middle;\n",
       "    }\n",
       "\n",
       "    .dataframe tbody tr th {\n",
       "        vertical-align: top;\n",
       "    }\n",
       "\n",
       "    .dataframe thead th {\n",
       "        text-align: right;\n",
       "    }\n",
       "</style>\n",
       "<table border=\"1\" class=\"dataframe\">\n",
       "  <thead>\n",
       "    <tr style=\"text-align: right;\">\n",
       "      <th></th>\n",
       "      <th>Ano</th>\n",
       "      <th>Domínio</th>\n",
       "      <th>Total de Denúncias</th>\n",
       "    </tr>\n",
       "  </thead>\n",
       "  <tbody>\n",
       "    <tr>\n",
       "      <th>0</th>\n",
       "      <td>2006</td>\n",
       "      <td>0bbs.jp</td>\n",
       "      <td>4</td>\n",
       "    </tr>\n",
       "    <tr>\n",
       "      <th>1</th>\n",
       "      <td>2006</td>\n",
       "      <td>3.122</td>\n",
       "      <td>23</td>\n",
       "    </tr>\n",
       "    <tr>\n",
       "      <th>2</th>\n",
       "      <td>2006</td>\n",
       "      <td>c700.com</td>\n",
       "      <td>12</td>\n",
       "    </tr>\n",
       "    <tr>\n",
       "      <th>3</th>\n",
       "      <td>2006</td>\n",
       "      <td>coredump.cx</td>\n",
       "      <td>17</td>\n",
       "    </tr>\n",
       "    <tr>\n",
       "      <th>4</th>\n",
       "      <td>2006</td>\n",
       "      <td>cutelitt.com</td>\n",
       "      <td>27</td>\n",
       "    </tr>\n",
       "  </tbody>\n",
       "</table>\n",
       "</div>"
      ],
      "text/plain": [
       "    Ano       Domínio  Total de Denúncias\n",
       "0  2006       0bbs.jp                   4\n",
       "1  2006         3.122                  23\n",
       "2  2006      c700.com                  12\n",
       "3  2006   coredump.cx                  17\n",
       "4  2006  cutelitt.com                  27"
      ]
     },
     "execution_count": 49,
     "metadata": {},
     "output_type": "execute_result"
    }
   ],
   "source": [
    "dominio_agrupado_ano = dominio[['Total de Denúncias', 'Ano', 'Domínio']].groupby(['Ano', 'Domínio']).sum().reset_index()\n",
    "dominio_agrupado_ano.head()"
   ]
  },
  {
   "cell_type": "code",
   "execution_count": 50,
   "metadata": {},
   "outputs": [
    {
     "data": {
      "text/html": [
       "<div>\n",
       "<style scoped>\n",
       "    .dataframe tbody tr th:only-of-type {\n",
       "        vertical-align: middle;\n",
       "    }\n",
       "\n",
       "    .dataframe tbody tr th {\n",
       "        vertical-align: top;\n",
       "    }\n",
       "\n",
       "    .dataframe thead th {\n",
       "        text-align: right;\n",
       "    }\n",
       "</style>\n",
       "<table border=\"1\" class=\"dataframe\">\n",
       "  <thead>\n",
       "    <tr style=\"text-align: right;\">\n",
       "      <th></th>\n",
       "      <th>Ano</th>\n",
       "      <th>Domínio</th>\n",
       "      <th>Total de Denúncias</th>\n",
       "    </tr>\n",
       "  </thead>\n",
       "  <tbody>\n",
       "    <tr>\n",
       "      <th>428</th>\n",
       "      <td>2018</td>\n",
       "      <td>4shared.com</td>\n",
       "      <td>39</td>\n",
       "    </tr>\n",
       "    <tr>\n",
       "      <th>435</th>\n",
       "      <td>2018</td>\n",
       "      <td>jpg4.club</td>\n",
       "      <td>46</td>\n",
       "    </tr>\n",
       "    <tr>\n",
       "      <th>440</th>\n",
       "      <td>2018</td>\n",
       "      <td>openload.co</td>\n",
       "      <td>46</td>\n",
       "    </tr>\n",
       "    <tr>\n",
       "      <th>439</th>\n",
       "      <td>2018</td>\n",
       "      <td>off-cams.com</td>\n",
       "      <td>52</td>\n",
       "    </tr>\n",
       "    <tr>\n",
       "      <th>430</th>\n",
       "      <td>2018</td>\n",
       "      <td>google.com</td>\n",
       "      <td>76</td>\n",
       "    </tr>\n",
       "    <tr>\n",
       "      <th>438</th>\n",
       "      <td>2018</td>\n",
       "      <td>nnhoney.com</td>\n",
       "      <td>80</td>\n",
       "    </tr>\n",
       "    <tr>\n",
       "      <th>448</th>\n",
       "      <td>2018</td>\n",
       "      <td>vk.com</td>\n",
       "      <td>86</td>\n",
       "    </tr>\n",
       "    <tr>\n",
       "      <th>427</th>\n",
       "      <td>2018</td>\n",
       "      <td>155chan.top</td>\n",
       "      <td>101</td>\n",
       "    </tr>\n",
       "    <tr>\n",
       "      <th>436</th>\n",
       "      <td>2018</td>\n",
       "      <td>mail.ru</td>\n",
       "      <td>116</td>\n",
       "    </tr>\n",
       "    <tr>\n",
       "      <th>449</th>\n",
       "      <td>2018</td>\n",
       "      <td>whatsapp.com</td>\n",
       "      <td>160</td>\n",
       "    </tr>\n",
       "    <tr>\n",
       "      <th>451</th>\n",
       "      <td>2018</td>\n",
       "      <td>youtu.be</td>\n",
       "      <td>289</td>\n",
       "    </tr>\n",
       "    <tr>\n",
       "      <th>433</th>\n",
       "      <td>2018</td>\n",
       "      <td>imgsrc.ru</td>\n",
       "      <td>410</td>\n",
       "    </tr>\n",
       "    <tr>\n",
       "      <th>442</th>\n",
       "      <td>2018</td>\n",
       "      <td>pornhub.com</td>\n",
       "      <td>415</td>\n",
       "    </tr>\n",
       "    <tr>\n",
       "      <th>432</th>\n",
       "      <td>2018</td>\n",
       "      <td>imagefap.com</td>\n",
       "      <td>500</td>\n",
       "    </tr>\n",
       "    <tr>\n",
       "      <th>437</th>\n",
       "      <td>2018</td>\n",
       "      <td>mega.nz</td>\n",
       "      <td>670</td>\n",
       "    </tr>\n",
       "    <tr>\n",
       "      <th>446</th>\n",
       "      <td>2018</td>\n",
       "      <td>tumblr.com</td>\n",
       "      <td>792</td>\n",
       "    </tr>\n",
       "    <tr>\n",
       "      <th>426</th>\n",
       "      <td>2018</td>\n",
       "      <td>155chan.gr</td>\n",
       "      <td>843</td>\n",
       "    </tr>\n",
       "    <tr>\n",
       "      <th>431</th>\n",
       "      <td>2018</td>\n",
       "      <td>google.com.br</td>\n",
       "      <td>1152</td>\n",
       "    </tr>\n",
       "    <tr>\n",
       "      <th>452</th>\n",
       "      <td>2018</td>\n",
       "      <td>youtube.com</td>\n",
       "      <td>1386</td>\n",
       "    </tr>\n",
       "    <tr>\n",
       "      <th>444</th>\n",
       "      <td>2018</td>\n",
       "      <td>riodenojeira.xyz</td>\n",
       "      <td>1830</td>\n",
       "    </tr>\n",
       "    <tr>\n",
       "      <th>450</th>\n",
       "      <td>2018</td>\n",
       "      <td>xvideos.com</td>\n",
       "      <td>2228</td>\n",
       "    </tr>\n",
       "    <tr>\n",
       "      <th>445</th>\n",
       "      <td>2018</td>\n",
       "      <td>t.co</td>\n",
       "      <td>3494</td>\n",
       "    </tr>\n",
       "    <tr>\n",
       "      <th>434</th>\n",
       "      <td>2018</td>\n",
       "      <td>instagram.com</td>\n",
       "      <td>5025</td>\n",
       "    </tr>\n",
       "    <tr>\n",
       "      <th>447</th>\n",
       "      <td>2018</td>\n",
       "      <td>twitter.com</td>\n",
       "      <td>5640</td>\n",
       "    </tr>\n",
       "    <tr>\n",
       "      <th>441</th>\n",
       "      <td>2018</td>\n",
       "      <td>peticaopublica.com.br</td>\n",
       "      <td>5898</td>\n",
       "    </tr>\n",
       "    <tr>\n",
       "      <th>429</th>\n",
       "      <td>2018</td>\n",
       "      <td>facebook.com</td>\n",
       "      <td>24674</td>\n",
       "    </tr>\n",
       "    <tr>\n",
       "      <th>443</th>\n",
       "      <td>2018</td>\n",
       "      <td>riodenojeira.com</td>\n",
       "      <td>34113</td>\n",
       "    </tr>\n",
       "  </tbody>\n",
       "</table>\n",
       "</div>"
      ],
      "text/plain": [
       "      Ano                Domínio  Total de Denúncias\n",
       "428  2018            4shared.com                  39\n",
       "435  2018              jpg4.club                  46\n",
       "440  2018            openload.co                  46\n",
       "439  2018           off-cams.com                  52\n",
       "430  2018             google.com                  76\n",
       "438  2018            nnhoney.com                  80\n",
       "448  2018                 vk.com                  86\n",
       "427  2018            155chan.top                 101\n",
       "436  2018                mail.ru                 116\n",
       "449  2018           whatsapp.com                 160\n",
       "451  2018               youtu.be                 289\n",
       "433  2018              imgsrc.ru                 410\n",
       "442  2018            pornhub.com                 415\n",
       "432  2018           imagefap.com                 500\n",
       "437  2018                mega.nz                 670\n",
       "446  2018             tumblr.com                 792\n",
       "426  2018             155chan.gr                 843\n",
       "431  2018          google.com.br                1152\n",
       "452  2018            youtube.com                1386\n",
       "444  2018       riodenojeira.xyz                1830\n",
       "450  2018            xvideos.com                2228\n",
       "445  2018                   t.co                3494\n",
       "434  2018          instagram.com                5025\n",
       "447  2018            twitter.com                5640\n",
       "441  2018  peticaopublica.com.br                5898\n",
       "429  2018           facebook.com               24674\n",
       "443  2018       riodenojeira.com               34113"
      ]
     },
     "execution_count": 50,
     "metadata": {},
     "output_type": "execute_result"
    }
   ],
   "source": [
    "dominio_2018 = dominio_agrupado_ano.loc[dominio_agrupado_ano['Ano'] == 2018].sort_values('Total de Denúncias')\n",
    "dominio_2018"
   ]
  },
  {
   "cell_type": "code",
   "execution_count": 51,
   "metadata": {},
   "outputs": [
    {
     "data": {
      "text/plain": [
       "<matplotlib.axes._subplots.AxesSubplot at 0x7f2393bf35f8>"
      ]
     },
     "execution_count": 51,
     "metadata": {},
     "output_type": "execute_result"
    },
    {
     "data": {
      "image/png": "[encoded data removed]",
      "text/plain": [
       "<matplotlib.figure.Figure at 0x7f23942fb588>"
      ]
     },
     "metadata": {},
     "output_type": "display_data"
    }
   ],
   "source": [
    "dominio_2018.plot.bar(x = 'Domínio', y = 'Total de Denúncias', title='DENÚNCIAS POR DOMÍNIO EM 2018')"
   ]
  },
  {
   "cell_type": "code",
   "execution_count": 52,
   "metadata": {
    "collapsed": true
   },
   "outputs": [],
   "source": [
    "dominio_agrupado_ano.to_csv('../dados/dominio_agrupado_ano.csv', index=False)"
   ]
  },
  {
   "cell_type": "markdown",
   "metadata": {},
   "source": [
    "### 3.3 - Idiomas das Denúncias"
   ]
  },
  {
   "cell_type": "code",
   "execution_count": 53,
   "metadata": {},
   "outputs": [
    {
     "data": {
      "text/html": [
       "<div>\n",
       "<style scoped>\n",
       "    .dataframe tbody tr th:only-of-type {\n",
       "        vertical-align: middle;\n",
       "    }\n",
       "\n",
       "    .dataframe tbody tr th {\n",
       "        vertical-align: top;\n",
       "    }\n",
       "\n",
       "    .dataframe thead th {\n",
       "        text-align: right;\n",
       "    }\n",
       "</style>\n",
       "<table border=\"1\" class=\"dataframe\">\n",
       "  <thead>\n",
       "    <tr style=\"text-align: right;\">\n",
       "      <th></th>\n",
       "      <th>Ano</th>\n",
       "      <th>Idioma</th>\n",
       "      <th>Total de Denúncias</th>\n",
       "    </tr>\n",
       "  </thead>\n",
       "  <tbody>\n",
       "    <tr>\n",
       "      <th>0</th>\n",
       "      <td>2006</td>\n",
       "      <td>dutch</td>\n",
       "      <td>55</td>\n",
       "    </tr>\n",
       "    <tr>\n",
       "      <th>1</th>\n",
       "      <td>2006</td>\n",
       "      <td>english</td>\n",
       "      <td>7943</td>\n",
       "    </tr>\n",
       "    <tr>\n",
       "      <th>2</th>\n",
       "      <td>2006</td>\n",
       "      <td>farsi</td>\n",
       "      <td>9</td>\n",
       "    </tr>\n",
       "    <tr>\n",
       "      <th>3</th>\n",
       "      <td>2006</td>\n",
       "      <td>french</td>\n",
       "      <td>95</td>\n",
       "    </tr>\n",
       "    <tr>\n",
       "      <th>4</th>\n",
       "      <td>2006</td>\n",
       "      <td>german</td>\n",
       "      <td>12</td>\n",
       "    </tr>\n",
       "  </tbody>\n",
       "</table>\n",
       "</div>"
      ],
      "text/plain": [
       "    Ano   Idioma  Total de Denúncias\n",
       "0  2006    dutch                  55\n",
       "1  2006  english                7943\n",
       "2  2006    farsi                   9\n",
       "3  2006   french                  95\n",
       "4  2006   german                  12"
      ]
     },
     "execution_count": 53,
     "metadata": {},
     "output_type": "execute_result"
    }
   ],
   "source": [
    "idioma_agrupado_ano = idioma[['Total de Denúncias', 'Ano', 'Idioma']].groupby(['Ano', 'Idioma']).sum().reset_index()\n",
    "idioma_agrupado_ano.head()"
   ]
  },
  {
   "cell_type": "code",
   "execution_count": 54,
   "metadata": {},
   "outputs": [
    {
     "data": {
      "text/html": [
       "<div>\n",
       "<style scoped>\n",
       "    .dataframe tbody tr th:only-of-type {\n",
       "        vertical-align: middle;\n",
       "    }\n",
       "\n",
       "    .dataframe tbody tr th {\n",
       "        vertical-align: top;\n",
       "    }\n",
       "\n",
       "    .dataframe thead th {\n",
       "        text-align: right;\n",
       "    }\n",
       "</style>\n",
       "<table border=\"1\" class=\"dataframe\">\n",
       "  <thead>\n",
       "    <tr style=\"text-align: right;\">\n",
       "      <th></th>\n",
       "      <th>Ano</th>\n",
       "      <th>Idioma</th>\n",
       "      <th>Total de Denúncias</th>\n",
       "    </tr>\n",
       "  </thead>\n",
       "  <tbody>\n",
       "    <tr>\n",
       "      <th>125</th>\n",
       "      <td>2018</td>\n",
       "      <td>pinyin</td>\n",
       "      <td>5</td>\n",
       "    </tr>\n",
       "    <tr>\n",
       "      <th>129</th>\n",
       "      <td>2018</td>\n",
       "      <td>swedish</td>\n",
       "      <td>14</td>\n",
       "    </tr>\n",
       "    <tr>\n",
       "      <th>122</th>\n",
       "      <td>2018</td>\n",
       "      <td>farsi</td>\n",
       "      <td>29</td>\n",
       "    </tr>\n",
       "    <tr>\n",
       "      <th>120</th>\n",
       "      <td>2018</td>\n",
       "      <td>dutch</td>\n",
       "      <td>47</td>\n",
       "    </tr>\n",
       "    <tr>\n",
       "      <th>124</th>\n",
       "      <td>2018</td>\n",
       "      <td>german</td>\n",
       "      <td>104</td>\n",
       "    </tr>\n",
       "    <tr>\n",
       "      <th>128</th>\n",
       "      <td>2018</td>\n",
       "      <td>spanish</td>\n",
       "      <td>938</td>\n",
       "    </tr>\n",
       "    <tr>\n",
       "      <th>123</th>\n",
       "      <td>2018</td>\n",
       "      <td>french</td>\n",
       "      <td>2151</td>\n",
       "    </tr>\n",
       "    <tr>\n",
       "      <th>127</th>\n",
       "      <td>2018</td>\n",
       "      <td>russian</td>\n",
       "      <td>9652</td>\n",
       "    </tr>\n",
       "    <tr>\n",
       "      <th>126</th>\n",
       "      <td>2018</td>\n",
       "      <td>portuguese</td>\n",
       "      <td>28211</td>\n",
       "    </tr>\n",
       "    <tr>\n",
       "      <th>121</th>\n",
       "      <td>2018</td>\n",
       "      <td>english</td>\n",
       "      <td>46012</td>\n",
       "    </tr>\n",
       "  </tbody>\n",
       "</table>\n",
       "</div>"
      ],
      "text/plain": [
       "      Ano      Idioma  Total de Denúncias\n",
       "125  2018      pinyin                   5\n",
       "129  2018     swedish                  14\n",
       "122  2018       farsi                  29\n",
       "120  2018       dutch                  47\n",
       "124  2018      german                 104\n",
       "128  2018     spanish                 938\n",
       "123  2018      french                2151\n",
       "127  2018     russian                9652\n",
       "126  2018  portuguese               28211\n",
       "121  2018     english               46012"
      ]
     },
     "execution_count": 54,
     "metadata": {},
     "output_type": "execute_result"
    }
   ],
   "source": [
    "idioma_2018 = idioma_agrupado_ano.loc[idioma_agrupado_ano['Ano'] == 2018].sort_values('Total de Denúncias')\n",
    "idioma_2018"
   ]
  },
  {
   "cell_type": "code",
   "execution_count": 55,
   "metadata": {},
   "outputs": [
    {
     "data": {
      "text/plain": [
       "<matplotlib.axes._subplots.AxesSubplot at 0x7f239394c048>"
      ]
     },
     "execution_count": 55,
     "metadata": {},
     "output_type": "execute_result"
    },
    {
     "data": {
      "image/png": "[encoded data removed]",
      "text/plain": [
       "<matplotlib.figure.Figure at 0x7f2393968f98>"
      ]
     },
     "metadata": {},
     "output_type": "display_data"
    }
   ],
   "source": [
    "idioma_2018.plot.bar(x = 'Idioma', y = 'Total de Denúncias',  title='DENÚNCIAS POR IDIOMA EM 2018')"
   ]
  },
  {
   "cell_type": "code",
   "execution_count": 56,
   "metadata": {
    "collapsed": true
   },
   "outputs": [],
   "source": [
    "idioma_agrupado_ano.to_csv('../dados/idioma_agrupado_ano.csv', index=False)"
   ]
  }
 ],
 "metadata": {
  "kernelspec": {
   "display_name": "Python 3",
   "language": "python",
   "name": "python3"
  },
  "language_info": {
   "codemirror_mode": {
    "name": "ipython",
    "version": 3
   },
   "file_extension": ".py",
   "mimetype": "text/x-python",
   "name": "python",
   "nbconvert_exporter": "python",
   "pygments_lexer": "ipython3",
   "version": "3.6.3"
  }
 },
 "nbformat": 4,
 "nbformat_minor": 2
}
