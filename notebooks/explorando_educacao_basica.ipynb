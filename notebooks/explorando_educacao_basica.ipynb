{
 "cells": [
  {
   "cell_type": "markdown",
   "metadata": {},
   "source": [
    "<img src=\"../imagens/slide01.png\">\n",
    "\n",
    "\n",
    "No [Portal Brasileiro de Dados Abertos](http://dados.gov.br/) é possível selecionar uma organização e verificar quais os conjuntos de dados que ela dispõe.\n",
    "\n",
    "\n",
    "[Olhando o conjunto de dados do INEP](http://dados.gov.br/organization/instituto-nacional-de-estudos-e-pesquisas-educacionais-anisio-teixeira-inep) (Instituto Nacional de Estudos e Pesquisas Educacionais Anísio Teixeira)\n",
    "selecionamos o [conjunto Instituições de Ensino Básico](http://dados.gov.br/dataset/instituicoes-de-ensino-basico) a fim de explorar esse contexto.\n",
    "\n",
    "**Do que falam esses dados?**\n",
    "\n",
    "Conforme a documentação no site esses são dados do cadastro das escolas da educação básica fornecido pelo INEP, oriundo do Censo Escolar de 2012. Lá existem arquivos separados para cada Região. Vamos dar uma olhada em um deles e fica como exercício fazer o mesmo processo com os demais arquivos. Beleza?!\n",
    "\n",
    "Eu escolhi os dados [Cadastro das Matrículas da Região Nordeste(1)](http://dados.gov.br/dataset/instituicoes-de-ensino-basico/resource/4c6e4fd5-4584-480c-9e30-317a80d30060). Eles são referentes aos estados de Pernambuco, Alagoas, Sergipe e Bahia.\n",
    "\n",
    "***Ihuu! :D***"
   ]
  },
  {
   "cell_type": "markdown",
   "metadata": {},
   "source": [
    "**Bibliotecas**\n",
    "\n",
    "Para essa prática nós vamos usar a biblioteca Pandas. Bibliotecas são algoritmos que outras pessoas fizeram e deixaram disponíveis para que outros pudessem reusar. ❤\n",
    "\n",
    "**[Pandas](https://pandas.pydata.org/)** - É uma biblioteca para manipulação e análise de dados em Python.\n",
    "Permite que a gente importe arquivos, agrupe dados, calcule médias entre muitas, muuuitas outras coisas.\n",
    "\n",
    "**Importando a biblioteca para que possamos usar os pedaços de código que existem nela**"
   ]
  },
  {
   "cell_type": "code",
   "execution_count": null,
   "metadata": {
    "collapsed": true
   },
   "outputs": [],
   "source": [
    "import pandas as pd"
   ]
  },
  {
   "cell_type": "markdown",
   "metadata": {},
   "source": [
    "## Primeiros passos"
   ]
  },
  {
   "cell_type": "markdown",
   "metadata": {},
   "source": [
    "Vamos iniciar com 3 passos básicos que sempre serão necessários ao dar início a uma atividade de análise:\n",
    "\n",
    "**1 - Vamos importar os dados que estão lá no link para dentro do nosso Notebook.**\n",
    "\n",
    "URL é um outro nome para os links que conhecemos. \n",
    "Na página do conjunto de dados que queremos existe uma informação exatamente assim:\n",
    "\n",
    "<img src=\"../imagens/print_url.png\">\n",
    "\n",
    "Vamos copiar o que tem no campo 'URL' e colar abaixo como o valor da nossa variável 'url'"
   ]
  },
  {
   "cell_type": "code",
   "execution_count": null,
   "metadata": {
    "collapsed": true
   },
   "outputs": [],
   "source": [
    "url = 'http://repositorio.dados.gov.br/educacao/CADASTRO_MATRICULAS_REGIAO_NORDESTE_PE_AL_SE_BA_2012.csv'"
   ]
  },
  {
   "cell_type": "markdown",
   "metadata": {},
   "source": [
    "Os dados que queremos importar têm essa aparência.\n",
    "\n",
    "<img src=\"../imagens/print_dados_educacao_basica.png\">\n",
    "\n",
    "Olhar isso é importante pois assim podemos perceber a estrutura dos dados. \n",
    "\n",
    "No nosso caso podemos perceber que as 11 primeiras linhas não são exatamente os dados que queremos \n",
    "analisar e sim um descritivo deles, o que para nós não é interessante nesse momento.\n",
    "\n",
    "Agora vamos baixar os dados e colocá-los dentro desse nosso ambiente."
   ]
  },
  {
   "cell_type": "code",
   "execution_count": null,
   "metadata": {
    "collapsed": true
   },
   "outputs": [],
   "source": [
    "educacao_basica = pd.read_csv(filepath_or_buffer=url, delimiter=';', header=11, encoding = \"ISO-8859-1\")"
   ]
  },
  {
   "cell_type": "markdown",
   "metadata": {},
   "source": [
    "Como isso aconteceu? \n",
    "\n",
    "Na célula anterior criamos uma outra variável para armazenar os dados do cvs que queremos analisar.\n",
    "E usamos o método  'pd.read_csv' para ler os dados do arquivo cvs. Para que o método possa funcionar \n",
    "e ir buscar os dados para a gente, precisamos dar algumas informações para ele, como:\n",
    "\n",
    "- filepath_or_buffer = local onde o arquivo está;\n",
    "- delimiter = símbolo que delimita as colunas do arquivo. Pode ser vírgula, ponto e vírgula, espaço. Os mais comuns são vírgula e ponto e vírgula;\n",
    "- header = quantas linhas ele deve pular até começar a ler o arquivo;\n",
    "- encoding = o formato nos quais os dados foram codificados, isso diz respeito à forma como os acentos e caracteres especiais foram convertidos na hora de salvar o arquivo. Os mais comuns são 'utf-8' e 'ISO-8859-1'.\n"
   ]
  },
  {
   "cell_type": "markdown",
   "metadata": {},
   "source": [
    "**2 - Vamos dar uma olhada nos dados que importamos**"
   ]
  },
  {
   "cell_type": "code",
   "execution_count": null,
   "metadata": {
    "collapsed": true,
    "scrolled": true
   },
   "outputs": [],
   "source": [
    "educacao_basica.head()"
   ]
  },
  {
   "cell_type": "markdown",
   "metadata": {},
   "source": [
    "**3 - Vamos dar uma olhada em quais colunas ele possui?**"
   ]
  },
  {
   "cell_type": "code",
   "execution_count": null,
   "metadata": {
    "collapsed": true
   },
   "outputs": [],
   "source": [
    "educacao_basica.columns.values"
   ]
  },
  {
   "cell_type": "markdown",
   "metadata": {},
   "source": [
    "Agora temos uma noção das perguntas que podemos fazer e responder com esses dados.\n",
    "Por exemplo, eu fiquei muito curiosa sobre o seguinte:\n",
    "       \n",
    "- Como se distribui a quantidade de escolas da rede pública e privada nos estados de Alagoas, Bahia, Pernambuco e Sergipe?\n",
    "- Quantas escolas têm laboratório de Ciência?\n",
    "- Quantas escolas têm laboratório de Informática?\n",
    "- Quantas escolas têm sanitário dentro do prédio?\n"
   ]
  },
  {
   "cell_type": "markdown",
   "metadata": {},
   "source": [
    "## Como a gente responde isso?\n",
    "\n",
    "Agrupando os dados.\n",
    "\n",
    "**E o que é o agrupamento de dados?**\n",
    "\n",
    "O agrupamento de dados é basicamente realizar uma operação sobre um dos atributos dos dados considerando que eles têm um outro atributo em comum, o que indica semelhança entre eles. Essa operação pode ser uma média, soma de valores, selecionar o valor máximo, contar a quantidade de linhas, entre outros.\n",
    "\n",
    "**Por exemplo**, uma vez que tenhamos uma tabela com as colunas 'Região', 'Estado', 'Cidade' e 'Quantidade', \n",
    "podemos agrupar os dados de forma a descobrir qual o valor total da quantidade considerando a Região. \n",
    "\n",
    "Como fazemos isso na prática? Somando todos os valores da coluna 'Quantidade' que tenham os valores iguais para a coluna 'Região'.\n",
    "\n",
    "Com a figura abaixo, fica mais fácil de entender:\n",
    "<img src=\"../imagens/agrupamento_regiao.png\">"
   ]
  },
  {
   "cell_type": "markdown",
   "metadata": {},
   "source": [
    "O mesmo pode ser feito para o 'Estado', ficando dessa forma:\n",
    "<img src=\"../imagens/agrupamento_estado.png\">"
   ]
  },
  {
   "cell_type": "markdown",
   "metadata": {},
   "source": [
    "**Como fazemos o exemplo acima no código?**\n",
    "\n",
    "Aqui utilizamos o método 'pd.DataFrame()' para criar um Data Frame utilizando Pandas, o que de forma simples nós podemos entender como uma tabela, só que com todos os recursos que a biblioteca Pandas nos proporciona como ver a lista de colunas e agrupar dados."
   ]
  },
  {
   "cell_type": "code",
   "execution_count": 6,
   "metadata": {
    "collapsed": true
   },
   "outputs": [],
   "source": [
    "tabela = pd.DataFrame({'Regiao': ['Nordeste', 'Nordeste', 'Nordeste','Nordeste'], \n",
    "         'Estado': ['Bahia', 'Bahia', 'Paraíba', 'Paraíba'],\n",
    "         'Cidade': ['Feira de Santana', 'Salvador', 'Campina Grande', 'João Pessoa'],\n",
    "         'Quantidade': [10, 20, 30, 40]})"
   ]
  },
  {
   "cell_type": "markdown",
   "metadata": {},
   "source": [
    "Visualizando tabela"
   ]
  },
  {
   "cell_type": "code",
   "execution_count": 7,
   "metadata": {},
   "outputs": [
    {
     "data": {
      "text/html": [
       "<div>\n",
       "<style scoped>\n",
       "    .dataframe tbody tr th:only-of-type {\n",
       "        vertical-align: middle;\n",
       "    }\n",
       "\n",
       "    .dataframe tbody tr th {\n",
       "        vertical-align: top;\n",
       "    }\n",
       "\n",
       "    .dataframe thead th {\n",
       "        text-align: right;\n",
       "    }\n",
       "</style>\n",
       "<table border=\"1\" class=\"dataframe\">\n",
       "  <thead>\n",
       "    <tr style=\"text-align: right;\">\n",
       "      <th></th>\n",
       "      <th>Regiao</th>\n",
       "      <th>Estado</th>\n",
       "      <th>Cidade</th>\n",
       "      <th>Quantidade</th>\n",
       "    </tr>\n",
       "  </thead>\n",
       "  <tbody>\n",
       "    <tr>\n",
       "      <th>0</th>\n",
       "      <td>Nordeste</td>\n",
       "      <td>Bahia</td>\n",
       "      <td>Feira de Santana</td>\n",
       "      <td>10</td>\n",
       "    </tr>\n",
       "    <tr>\n",
       "      <th>1</th>\n",
       "      <td>Nordeste</td>\n",
       "      <td>Bahia</td>\n",
       "      <td>Salvador</td>\n",
       "      <td>20</td>\n",
       "    </tr>\n",
       "    <tr>\n",
       "      <th>2</th>\n",
       "      <td>Nordeste</td>\n",
       "      <td>Paraíba</td>\n",
       "      <td>Campina Grande</td>\n",
       "      <td>30</td>\n",
       "    </tr>\n",
       "    <tr>\n",
       "      <th>3</th>\n",
       "      <td>Nordeste</td>\n",
       "      <td>Paraíba</td>\n",
       "      <td>João Pessoa</td>\n",
       "      <td>40</td>\n",
       "    </tr>\n",
       "  </tbody>\n",
       "</table>\n",
       "</div>"
      ],
      "text/plain": [
       "     Regiao   Estado            Cidade  Quantidade\n",
       "0  Nordeste    Bahia  Feira de Santana          10\n",
       "1  Nordeste    Bahia          Salvador          20\n",
       "2  Nordeste  Paraíba    Campina Grande          30\n",
       "3  Nordeste  Paraíba       João Pessoa          40"
      ]
     },
     "execution_count": 7,
     "metadata": {},
     "output_type": "execute_result"
    }
   ],
   "source": [
    "tabela"
   ]
  },
  {
   "cell_type": "markdown",
   "metadata": {},
   "source": [
    "Visualizando colunas das tabelas"
   ]
  },
  {
   "cell_type": "code",
   "execution_count": 8,
   "metadata": {},
   "outputs": [
    {
     "data": {
      "text/plain": [
       "array(['Regiao', 'Estado', 'Cidade', 'Quantidade'], dtype=object)"
      ]
     },
     "execution_count": 8,
     "metadata": {},
     "output_type": "execute_result"
    }
   ],
   "source": [
    "tabela.columns.values"
   ]
  },
  {
   "cell_type": "markdown",
   "metadata": {},
   "source": [
    "Agrupando dados por 'Regiao' e somando os valores"
   ]
  },
  {
   "cell_type": "code",
   "execution_count": 9,
   "metadata": {},
   "outputs": [
    {
     "data": {
      "text/html": [
       "<div>\n",
       "<style scoped>\n",
       "    .dataframe tbody tr th:only-of-type {\n",
       "        vertical-align: middle;\n",
       "    }\n",
       "\n",
       "    .dataframe tbody tr th {\n",
       "        vertical-align: top;\n",
       "    }\n",
       "\n",
       "    .dataframe thead th {\n",
       "        text-align: right;\n",
       "    }\n",
       "</style>\n",
       "<table border=\"1\" class=\"dataframe\">\n",
       "  <thead>\n",
       "    <tr style=\"text-align: right;\">\n",
       "      <th></th>\n",
       "      <th>Quantidade</th>\n",
       "    </tr>\n",
       "    <tr>\n",
       "      <th>Regiao</th>\n",
       "      <th></th>\n",
       "    </tr>\n",
       "  </thead>\n",
       "  <tbody>\n",
       "    <tr>\n",
       "      <th>Nordeste</th>\n",
       "      <td>100</td>\n",
       "    </tr>\n",
       "  </tbody>\n",
       "</table>\n",
       "</div>"
      ],
      "text/plain": [
       "          Quantidade\n",
       "Regiao              \n",
       "Nordeste         100"
      ]
     },
     "execution_count": 9,
     "metadata": {},
     "output_type": "execute_result"
    }
   ],
   "source": [
    "tabela.groupby('Regiao').sum()"
   ]
  },
  {
   "cell_type": "markdown",
   "metadata": {},
   "source": [
    "Aqui utilizamos o método **groupby()** e dentro dele indicamos entre aspas simples **'nome_da_coluna'**\n",
    "qual a coluna que devemos considerar para agrupar os dados. E depois com o **sum()** indicamos qual operação desejamos realizar, no caso o somatório da coluna numérica que temos - Quantidade\n"
   ]
  },
  {
   "cell_type": "markdown",
   "metadata": {},
   "source": [
    "Agrupando dados por 'Estado' e somando os valores."
   ]
  },
  {
   "cell_type": "code",
   "execution_count": 10,
   "metadata": {},
   "outputs": [
    {
     "data": {
      "text/html": [
       "<div>\n",
       "<style scoped>\n",
       "    .dataframe tbody tr th:only-of-type {\n",
       "        vertical-align: middle;\n",
       "    }\n",
       "\n",
       "    .dataframe tbody tr th {\n",
       "        vertical-align: top;\n",
       "    }\n",
       "\n",
       "    .dataframe thead th {\n",
       "        text-align: right;\n",
       "    }\n",
       "</style>\n",
       "<table border=\"1\" class=\"dataframe\">\n",
       "  <thead>\n",
       "    <tr style=\"text-align: right;\">\n",
       "      <th></th>\n",
       "      <th>Quantidade</th>\n",
       "    </tr>\n",
       "    <tr>\n",
       "      <th>Estado</th>\n",
       "      <th></th>\n",
       "    </tr>\n",
       "  </thead>\n",
       "  <tbody>\n",
       "    <tr>\n",
       "      <th>Bahia</th>\n",
       "      <td>30</td>\n",
       "    </tr>\n",
       "    <tr>\n",
       "      <th>Paraíba</th>\n",
       "      <td>70</td>\n",
       "    </tr>\n",
       "  </tbody>\n",
       "</table>\n",
       "</div>"
      ],
      "text/plain": [
       "         Quantidade\n",
       "Estado             \n",
       "Bahia            30\n",
       "Paraíba          70"
      ]
     },
     "execution_count": 10,
     "metadata": {},
     "output_type": "execute_result"
    }
   ],
   "source": [
    "tabela.groupby('Estado').sum()"
   ]
  },
  {
   "cell_type": "markdown",
   "metadata": {},
   "source": [
    "Nesses exemplos usamos apenas uma coluna para agrupar os dados, mas é possível fazer isso com mais de uma.\n",
    "\n",
    "Como veremos a seguir :)"
   ]
  },
  {
   "cell_type": "markdown",
   "metadata": {},
   "source": [
    "## Ah Pronto! Agora vai! \n",
    "\n",
    "Agora que entendemos isso, simbora responder às nossas perguntas!"
   ]
  },
  {
   "cell_type": "markdown",
   "metadata": {},
   "source": [
    "## 1 -  Como se distribui a quantidade de escolas da rede pública e privada nos estados de Alagoas, Bahia, Pernambuco e Sergipe?"
   ]
  },
  {
   "cell_type": "code",
   "execution_count": null,
   "metadata": {
    "collapsed": true
   },
   "outputs": [],
   "source": [
    "educacao_basica.groupby(['REDE', 'UF']).size().reset_index(name='Quantidade').sort_values('UF')"
   ]
  },
  {
   "cell_type": "markdown",
   "metadata": {},
   "source": [
    "## 2 -  Quantas têm laboratório de Informática?"
   ]
  },
  {
   "cell_type": "code",
   "execution_count": null,
   "metadata": {
    "collapsed": true,
    "scrolled": true
   },
   "outputs": [],
   "source": [
    "educacao_basica.groupby([\n",
    "                    'UF', \n",
    "                    'LABORATORIO_INFORMATICA']).size().reset_index(name='Quantidade').sort_values('UF')"
   ]
  },
  {
   "cell_type": "markdown",
   "metadata": {},
   "source": [
    "## 3 -  Quantas têm laboratório de Ciência?"
   ]
  },
  {
   "cell_type": "code",
   "execution_count": null,
   "metadata": {
    "collapsed": true
   },
   "outputs": [],
   "source": [
    "educacao_basica.groupby([ \n",
    "                    'UF',\n",
    "                    'LABORATORIO_CIENCIAS']).size().reset_index(name='Quantidade').sort_values('UF')"
   ]
  },
  {
   "cell_type": "markdown",
   "metadata": {},
   "source": [
    "## 4 - Quantas têm sanitário dentro do prédio?"
   ]
  },
  {
   "cell_type": "code",
   "execution_count": null,
   "metadata": {
    "collapsed": true
   },
   "outputs": [],
   "source": [
    "educacao_basica.groupby(['UF', \n",
    "                    'SANITARIO_DENTRO_PREDIO']).size().reset_index(name='Quantidade').sort_values('UF')"
   ]
  },
  {
   "cell_type": "markdown",
   "metadata": {},
   "source": [
    "## Extra: Procure saber!"
   ]
  },
  {
   "cell_type": "markdown",
   "metadata": {},
   "source": [
    "### 5 - Quantas tem MATERIAL_ESP_QUILOMBOLA ou MATERIAL_ESP_INDIGENA?\n",
    "\n",
    "Dica: Para responder isso você pode explorar os seguintes atributos:\n",
    "- MATERIAL_ESP_INDIGENA\n",
    "- MATERIAL_ESP_QUILOMBOLA"
   ]
  },
  {
   "cell_type": "code",
   "execution_count": null,
   "metadata": {
    "collapsed": true
   },
   "outputs": [],
   "source": [
    "educacao_basica.groupby(['UF', 'Coloque o campo aqui!']).size().reset_index(name='Quantidade').sort_values('UF')"
   ]
  },
  {
   "cell_type": "markdown",
   "metadata": {},
   "source": [
    "### 6 - Existem escolas que não tenham água disponível para suas atividades?\n",
    "\n",
    "Dica: Para responder isso você pode explorar os seguintes atributos:\n",
    "- 'AGUA_FILTRADA'\n",
    "- 'AGUA_REDE_PUBLICA'\n",
    "- 'AGUA_POCO_ARTESIANO'\n",
    "- 'AGUA_CACIMBA'\n",
    "- 'AGUA_FONTE_RIO'\n",
    "- 'AGUA_INEXISTENTE',"
   ]
  },
  {
   "cell_type": "code",
   "execution_count": null,
   "metadata": {
    "collapsed": true,
    "scrolled": true
   },
   "outputs": [],
   "source": [
    "educacao_basica.groupby(['UF', 'Coloque o campo aqui!']).size().reset_index(name='Quantidade').sort_values('UF')"
   ]
  }
 ],
 "metadata": {
  "kernelspec": {
   "display_name": "Python 3",
   "language": "python",
   "name": "python3"
  },
  "language_info": {
   "codemirror_mode": {
    "name": "ipython",
    "version": 3
   },
   "file_extension": ".py",
   "mimetype": "text/x-python",
   "name": "python",
   "nbconvert_exporter": "python",
   "pygments_lexer": "ipython3",
   "version": "3.5.6"
  }
 },
 "nbformat": 4,
 "nbformat_minor": 2
}
